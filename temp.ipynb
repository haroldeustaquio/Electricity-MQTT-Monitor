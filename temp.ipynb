{
 "cells": [
  {
   "cell_type": "code",
   "execution_count": null,
   "metadata": {},
   "outputs": [],
   "source": [
    "import paho.mqtt.client as mqtt\n",
    "import json"
   ]
  },
  {
   "cell_type": "code",
   "execution_count": null,
   "metadata": {},
   "outputs": [],
   "source": [
    "def save_json(filename, data):\n",
    "    with open(f'data/{filename}.json', \"w\") as f:\n",
    "        json.dump(data, f, indent=4)\n",
    "\n",
    "def read_json(filename):\n",
    "    with open(f'data/{filename}.json', 'r') as file:\n",
    "        data = json.load(file)\n",
    "    return data"
   ]
  },
  {
   "cell_type": "code",
   "execution_count": null,
   "metadata": {},
   "outputs": [],
   "source": [
    "keys = read_json('broker')\n",
    "\n",
    "broker = keys['broker']\n",
    "port = keys['port']\n",
    "topic = keys['topics']"
   ]
  },
  {
   "cell_type": "code",
   "execution_count": null,
   "metadata": {},
   "outputs": [],
   "source": [
    "def on_connect(client, userdata, flags, rc):\n",
    "    if rc == 0:\n",
    "        print(\"Conectado al broker MQTT\")\n",
    "        client.subscribe(topic)\n",
    "    else:\n",
    "        print(\"Error de conexión, código:\", rc)"
   ]
  },
  {
   "cell_type": "code",
   "execution_count": null,
   "metadata": {},
   "outputs": [],
   "source": [
    "def save_data():\n",
    "    part_0 = read_json('part_0')\n",
    "    part_1 = read_json('part_1')\n",
    "    \n",
    "    total_part = [{**part_0,**part_1}]\n",
    "    \n",
    "    # save data in history\n",
    "    data = read_json('history')\n",
    "    data.extend(total_part)\n",
    "    save_json('history',data)\n",
    "    \n",
    "    # save data un last_update\n",
    "    save_json('last_update',total_part)\n",
    "    \n",
    "    print('saving data... 100%')"
   ]
  },
  {
   "cell_type": "code",
   "execution_count": null,
   "metadata": {},
   "outputs": [],
   "source": [
    "def on_message(client, userdata, message):\n",
    "    global dicc_total, temp\n",
    "    \n",
    "    temp = json.loads(str(message.payload.decode()).replace(\"\\'}\",\"\").replace(\"{\\'\" ,\"\"))\n",
    "    \n",
    "    if 1 in temp['data'][0]['point'][1:][0].values():\n",
    "        part_0 = temp['data'][0]['point'][1:]\n",
    "        dicc = {item['id']:item['val'] for item in part_0}\n",
    "        save_json('part_0',dicc)\n",
    "    else:\n",
    "        part_1 = temp['data'][0]['point'][1:]\n",
    "        dicc = {item['id']:item['val'] for item in part_1}        \n",
    "        save_json('part_1',dicc)\n",
    "        save_data()"
   ]
  },
  {
   "cell_type": "code",
   "execution_count": null,
   "metadata": {},
   "outputs": [],
   "source": [
    "# Crea el cliente MQTT\n",
    "client = mqtt.Client()\n",
    "\n",
    "client.on_connect = on_connect\n",
    "client.on_message = on_message\n",
    "\n",
    "client.connect(broker, port)\n",
    "\n",
    "# Mantén el cliente en ejecución para recibir mensajes\n",
    "client.loop_forever()"
   ]
  }
 ],
 "metadata": {
  "kernelspec": {
   "display_name": ".venv",
   "language": "python",
   "name": "python3"
  },
  "language_info": {
   "codemirror_mode": {
    "name": "ipython",
    "version": 3
   },
   "file_extension": ".py",
   "mimetype": "text/x-python",
   "name": "python",
   "nbconvert_exporter": "python",
   "pygments_lexer": "ipython3",
   "version": "3.11.9"
  }
 },
 "nbformat": 4,
 "nbformat_minor": 2
}
